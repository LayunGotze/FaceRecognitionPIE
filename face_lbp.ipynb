{
 "cells": [
  {
   "cell_type": "code",
   "execution_count": 13,
   "metadata": {},
   "outputs": [],
   "source": [
    "from scipy.io import loadmat\n",
    "import matplotlib.pyplot as plt\n",
    "import numpy as np\n",
    "from PIL import Image\n",
    "import cv2\n",
    "import os\n",
    "%matplotlib inline"
   ]
  },
  {
   "cell_type": "code",
   "execution_count": 2,
   "metadata": {},
   "outputs": [],
   "source": [
    "pose_5 = loadmat(\"PIE dataset/Pose05_64x64.mat\")\n",
    "pose_7 = loadmat(\"PIE dataset/Pose07_64x64.mat\")\n",
    "pose_9 = loadmat(\"PIE dataset/Pose09_64x64.mat\")\n",
    "pose_27 = loadmat(\"PIE dataset/Pose27_64x64.mat\")\n",
    "pose_29 = loadmat(\"PIE dataset/Pose29_64x64.mat\")"
   ]
  },
  {
   "cell_type": "code",
   "execution_count": 3,
   "metadata": {},
   "outputs": [],
   "source": [
    "X_all = np.concatenate([pose_5['fea'], pose_7['fea'], pose_9['fea'], pose_27['fea'], pose_29['fea'] ]).reshape(-1, 64, 64)"
   ]
  },
  {
   "cell_type": "code",
   "execution_count": 4,
   "metadata": {},
   "outputs": [],
   "source": [
    "y_all = np.concatenate([pose_5['gnd'], pose_7['gnd'], pose_9['gnd'], pose_27['gnd'], pose_29['gnd'] ])"
   ]
  },
  {
   "cell_type": "code",
   "execution_count": 5,
   "metadata": {},
   "outputs": [],
   "source": [
    "isTest_all = np.concatenate([pose_5['isTest'], pose_7['isTest'], pose_9['isTest'], pose_27['isTest'], pose_29['isTest'] ])"
   ]
  },
  {
   "cell_type": "code",
   "execution_count": 6,
   "metadata": {},
   "outputs": [],
   "source": [
    "X_train = []\n",
    "y_train = []\n",
    "X_test = []\n",
    "y_test = []\n"
   ]
  },
  {
   "cell_type": "code",
   "execution_count": 7,
   "metadata": {},
   "outputs": [],
   "source": [
    "for i in range(len(X_all)):\n",
    "    if isTest_all[i][0]==0:\n",
    "        X_train.append(X_all[i])\n",
    "        y_train.append(int(y_all[i][0]))\n",
    "    else:\n",
    "        X_test.append(X_all[i])\n",
    "        y_test.append(int(y_all[i][0]))\n",
    "        "
   ]
  },
  {
   "cell_type": "code",
   "execution_count": 8,
   "metadata": {},
   "outputs": [],
   "source": [
    "recognizer = cv2.face.LBPHFaceRecognizer_create()"
   ]
  },
  {
   "cell_type": "code",
   "execution_count": 9,
   "metadata": {},
   "outputs": [],
   "source": [
    "recognizer.train(X_train, np.array(y_train))"
   ]
  },
  {
   "cell_type": "code",
   "execution_count": 10,
   "metadata": {},
   "outputs": [
    {
     "name": "stdout",
     "output_type": "stream",
     "text": [
      "0th image of 1292 images\n",
      "50th image of 1292 images\n",
      "100th image of 1292 images\n",
      "150th image of 1292 images\n",
      "200th image of 1292 images\n",
      "250th image of 1292 images\n",
      "300th image of 1292 images\n",
      "350th image of 1292 images\n",
      "400th image of 1292 images\n",
      "450th image of 1292 images\n",
      "500th image of 1292 images\n",
      "550th image of 1292 images\n",
      "600th image of 1292 images\n",
      "650th image of 1292 images\n",
      "700th image of 1292 images\n",
      "750th image of 1292 images\n",
      "800th image of 1292 images\n",
      "850th image of 1292 images\n",
      "900th image of 1292 images\n",
      "950th image of 1292 images\n",
      "1000th image of 1292 images\n",
      "1050th image of 1292 images\n",
      "1100th image of 1292 images\n",
      "1150th image of 1292 images\n",
      "1200th image of 1292 images\n",
      "1250th image of 1292 images\n",
      "0.9961300309597523\n"
     ]
    }
   ],
   "source": [
    "correct_sum = 0\n",
    "for i in range(len(X_test)):\n",
    "    if i%50==0:\n",
    "        print(\"{}th image of {} images\".format(i, len(X_test)))\n",
    "    \n",
    "    label, confidence = recognizer.predict(X_test[i])\n",
    "    if label==y_test[i]:\n",
    "        correct_sum = correct_sum + 1\n",
    "correctness = correct_sum / len(X_test)\n",
    "print(correctness)"
   ]
  },
  {
   "cell_type": "code",
   "execution_count": 22,
   "metadata": {},
   "outputs": [],
   "source": [
    "def get_images_and_labels(path):\n",
    "    images_pathes = [os.path.join(path, f) for f in os.listdir(path)]\n",
    "    X = []\n",
    "    y = []\n",
    "    for image_path in images_pathes:\n",
    "        img = Image.open(image_path).convert('L')\n",
    "        img_numpy = np.array(img, 'uint8')\n",
    "        label = int(os.path.split(image_path)[-1].split(\".\")[0])\n",
    "        \n",
    "        X.append(img_numpy)\n",
    "        y.append(label)\n",
    "    \n",
    "    return X, y\n",
    "        \n",
    "    "
   ]
  },
  {
   "cell_type": "code",
   "execution_count": 23,
   "metadata": {},
   "outputs": [],
   "source": [
    "X_train, y_train = get_images_and_labels(os.path.join(os.getcwd()+'/cv/faces94/train'))"
   ]
  },
  {
   "cell_type": "code",
   "execution_count": 26,
   "metadata": {},
   "outputs": [],
   "source": [
    "X_test, y_test = get_images_and_labels(os.path.join(os.getcwd()+'/cv/faces94/test'))"
   ]
  },
  {
   "cell_type": "code",
   "execution_count": 28,
   "metadata": {},
   "outputs": [
    {
     "name": "stdout",
     "output_type": "stream",
     "text": [
      "0th image of 615 images\n",
      "50th image of 615 images\n",
      "100th image of 615 images\n",
      "150th image of 615 images\n",
      "200th image of 615 images\n",
      "250th image of 615 images\n",
      "300th image of 615 images\n",
      "350th image of 615 images\n",
      "400th image of 615 images\n",
      "450th image of 615 images\n",
      "500th image of 615 images\n",
      "550th image of 615 images\n",
      "600th image of 615 images\n",
      "0.9886178861788618\n"
     ]
    }
   ],
   "source": [
    "recognizer_94 = cv2.face.LBPHFaceRecognizer_create()\n",
    "recognizer_94.train(X_train, np.array(y_train))\n",
    "\n",
    "correct_sum = 0\n",
    "for i in range(len(X_test)):\n",
    "    if i%50==0:\n",
    "        print(\"{}th image of {} images\".format(i, len(X_test)))\n",
    "    \n",
    "    label, confidence = recognizer_94.predict(X_test[i])\n",
    "    if label==y_test[i]:\n",
    "        correct_sum = correct_sum + 1\n",
    "correctness = correct_sum / len(X_test)\n",
    "print(correctness)"
   ]
  },
  {
   "cell_type": "code",
   "execution_count": 35,
   "metadata": {},
   "outputs": [],
   "source": [
    "class face_recognition():\n",
    "    def __init__(self, path):\n",
    "        self.data_path = path\n",
    "    def get_images_and_labels(self, path):\n",
    "        images_pathes = [os.path.join(path, f) for f in os.listdir(self.path)]\n",
    "        X = []\n",
    "        y = []\n",
    "        for image_path in images_pathes:\n",
    "            img = Image.open(image_path).convert('L')\n",
    "            img_numpy = np.array(img, 'uint8')\n",
    "            label = int(os.path.split(image_path)[-1].split(\".\")[0])\n",
    "\n",
    "            X.append(img_numpy)\n",
    "            y.append(label)\n",
    "\n",
    "        return X, y\n",
    "    def get_correctness(self):\n",
    "        X_train, y_train = get_images_and_labels(os.path.join(self.data_path+'/train'))\n",
    "        X_test, y_test = get_images_and_labels(os.path.join(self.data_path+'/test'))\n",
    "        recognizer = cv2.face.LBPHFaceRecognizer_create()\n",
    "        recognizer.train(X_train, np.array(y_train))\n",
    "\n",
    "        correct_sum = 0\n",
    "        for i in range(len(X_test)):\n",
    "            if i%50==0:\n",
    "                print(\"{}th image of {} images\".format(i, len(X_test)))\n",
    "\n",
    "            label, confidence = recognizer.predict(X_test[i])\n",
    "            if label==y_test[i]:\n",
    "                correct_sum = correct_sum + 1\n",
    "        correctness = correct_sum / len(X_test)\n",
    "        return correctness"
   ]
  },
  {
   "cell_type": "code",
   "execution_count": 37,
   "metadata": {},
   "outputs": [
    {
     "name": "stdout",
     "output_type": "stream",
     "text": [
      "0th image of 288 images\n",
      "50th image of 288 images\n",
      "100th image of 288 images\n",
      "150th image of 288 images\n",
      "200th image of 288 images\n",
      "250th image of 288 images\n",
      "0.9236111111111112\n"
     ]
    }
   ],
   "source": [
    "face_recognition95 = face_recognition(os.getcwd()+\"/cv/faces95\")\n",
    "print(face_recognition95.get_correctness())"
   ]
  },
  {
   "cell_type": "code",
   "execution_count": 39,
   "metadata": {},
   "outputs": [
    {
     "name": "stdout",
     "output_type": "stream",
     "text": [
      "0th image of 600 images\n",
      "50th image of 600 images\n",
      "100th image of 600 images\n",
      "150th image of 600 images\n",
      "200th image of 600 images\n",
      "250th image of 600 images\n",
      "300th image of 600 images\n",
      "350th image of 600 images\n",
      "400th image of 600 images\n",
      "450th image of 600 images\n",
      "500th image of 600 images\n",
      "550th image of 600 images\n",
      "0.9433333333333334\n"
     ]
    }
   ],
   "source": [
    "face_recognition96 = face_recognition(os.getcwd()+\"/cv/faces96\")\n",
    "print(face_recognition96.get_correctness())"
   ]
  },
  {
   "cell_type": "code",
   "execution_count": 40,
   "metadata": {},
   "outputs": [
    {
     "name": "stdout",
     "output_type": "stream",
     "text": [
      "0th image of 72 images\n",
      "50th image of 72 images\n",
      "1.0\n"
     ]
    }
   ],
   "source": [
    "face_recognitiongri = face_recognition(os.getcwd()+\"/cv/facesgri\")\n",
    "print(face_recognitiongri.get_correctness())"
   ]
  },
  {
   "cell_type": "code",
   "execution_count": null,
   "metadata": {},
   "outputs": [],
   "source": []
  }
 ],
 "metadata": {
  "kernelspec": {
   "display_name": "Python 3",
   "language": "python",
   "name": "python3"
  },
  "language_info": {
   "codemirror_mode": {
    "name": "ipython",
    "version": 3
   },
   "file_extension": ".py",
   "mimetype": "text/x-python",
   "name": "python",
   "nbconvert_exporter": "python",
   "pygments_lexer": "ipython3",
   "version": "3.6.8"
  }
 },
 "nbformat": 4,
 "nbformat_minor": 2
}
